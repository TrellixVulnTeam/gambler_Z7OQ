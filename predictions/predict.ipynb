{
 "cells": [
  {
   "cell_type": "code",
   "execution_count": null,
   "metadata": {},
   "outputs": [],
   "source": [
    "import pandas as pd\n",
    "import numpy as np\n",
    "import matplotlib.pyplot as plt\n",
    "import seaborn as sns\n",
    "import matplotlib.ticker as ticker\n",
    "import matplotlib.ticker as plticker\n",
    "from sklearn.model_selection import train_test_split\n",
    "from sklearn.linear_model import LogisticRegression"
   ]
  },
  {
   "cell_type": "code",
   "execution_count": null,
   "metadata": {},
   "outputs": [],
   "source": [
    "#import and peek at the data we have\n",
    "world_cup = pd.read_csv('lib/wc-18-data.csv')\n",
    "results = pd.read_csv('lib/results.csv')"
   ]
  },
  {
   "cell_type": "code",
   "execution_count": null,
   "metadata": {},
   "outputs": [],
   "source": [
    "world_cup.head()"
   ]
  },
  {
   "cell_type": "code",
   "execution_count": null,
   "metadata": {},
   "outputs": [],
   "source": [
    "results.head()"
   ]
  },
  {
   "cell_type": "code",
   "execution_count": null,
   "metadata": {
    "scrolled": true
   },
   "outputs": [],
   "source": [
    "#Consider goal difference; and 'estimate' winner  \n",
    "winner = []\n",
    "for i in range (len(results['home_team'])):\n",
    "    if results ['home_score'][i] > results['away_score'][i]:\n",
    "        winner.append(results['home_team'][i])\n",
    "    elif results['home_score'][i] < results ['away_score'][i]:\n",
    "        winner.append(results['away_team'][i])\n",
    "    else:\n",
    "        winner.append('Draw')\n",
    "results['winning_team'] = winner\n",
    "\n",
    "#Add 'goal-difference' column to the set\n",
    "results['goal_difference'] = np.absolute(results['home_score'] - results['away_score'])\n",
    "\n",
    "results.head()\n"
   ]
  },
  {
   "cell_type": "code",
   "execution_count": null,
   "metadata": {},
   "outputs": [],
   "source": [
    "#Consider Nigeria, in a Nigeria dataframe\n",
    "df = results[(results['home_team'] == 'Nigeria') | (results['away_team'] == 'Nigeria')]\n",
    "nigeria = df.iloc[:]\n",
    "nigeria.head()"
   ]
  },
  {
   "cell_type": "code",
   "execution_count": null,
   "metadata": {},
   "outputs": [],
   "source": [
    "#Make a column for the year\n",
    "#including 1st world cup (1930)\n",
    "year = []\n",
    "for row in nigeria['date']:\n",
    "    year.append(int(row[:4]))\n",
    "nigeria ['match_year']= year\n",
    "nigeria_1930 = nigeria[nigeria.match_year >= 1930]\n",
    "nigeria_1930.count()"
   ]
  },
  {
   "cell_type": "code",
   "execution_count": null,
   "metadata": {},
   "outputs": [],
   "source": [
    "#Possibility for a common game -- for nigeria\n",
    "#visualisation\n",
    "wins = []\n",
    "for row in nigeria_1930['winning_team']:\n",
    "    if row != 'Nigeria' and row != 'Draw':\n",
    "        wins.append('Loss')\n",
    "    else:\n",
    "        wins.append(row)\n",
    "winsdf= pd.DataFrame(wins, columns=[ 'Nigeria_Results'])\n",
    "\n",
    "#plotting\n",
    "fig, ax = plt.subplots(1)\n",
    "fig.set_size_inches(10.7, 6.27)\n",
    "sns.set(style='darkgrid')\n",
    "sns.countplot(x='Nigeria_Results', data=winsdf)"
   ]
  },
  {
   "cell_type": "code",
   "execution_count": null,
   "metadata": {},
   "outputs": [],
   "source": []
  },
  {
   "cell_type": "code",
   "execution_count": null,
   "metadata": {},
   "outputs": [],
   "source": [
    "#Visualize all the teams participating\n",
    "\n",
    "worldcup_teams = ['Australia', ' Iran', 'Japan', 'Korea Republic', \n",
    "            'Saudi Arabia', 'Egypt', 'Morocco', 'Nigeria', \n",
    "            'Senegal', 'Tunisia', 'Costa Rica', 'Mexico', \n",
    "            'Panama', 'Argentina', 'Brazil', 'Colombia', \n",
    "            'Peru', 'Uruguay', 'Belgium', 'Croatia', \n",
    "            'Denmark', 'England', 'France', 'Germany', \n",
    "            'Iceland', 'Poland', 'Portugal', 'Russia', \n",
    "            'Serbia', 'Spain', 'Sweden', 'Switzerland']\n",
    "df_teams_home = results[results['home_team'].isin(worldcup_teams)]\n",
    "df_teams_away = results[results['away_team'].isin(worldcup_teams)]\n",
    "df_teams = pd.concat((df_teams_home, df_teams_away))\n",
    "df_teams.drop_duplicates()\n",
    "df_teams.count()"
   ]
  },
  {
   "cell_type": "code",
   "execution_count": null,
   "metadata": {},
   "outputs": [],
   "source": [
    "df_teams.head()"
   ]
  },
  {
   "cell_type": "code",
   "execution_count": null,
   "metadata": {},
   "outputs": [],
   "source": [
    "#Ignore worldcup games before 1930\n",
    "year = []\n",
    "for row in df_teams['date']:\n",
    "    year.append(int(row[:4]))\n",
    "df_teams['match_year'] = year\n",
    "df_teams_1930 = df_teams[df_teams.match_year >= 1930]\n",
    "df_teams_1930.head()"
   ]
  },
  {
   "cell_type": "code",
   "execution_count": null,
   "metadata": {},
   "outputs": [],
   "source": [
    "#Clean unwanted data columns --unobserved elements\n",
    "df_teams_1930 = df_teams.drop(['date', 'home_score', 'away_score', 'tournament', 'city', 'country', 'goal_difference', 'match_year'], axis=1)\n",
    "df_teams_1930.head()"
   ]
  },
  {
   "cell_type": "code",
   "execution_count": null,
   "metadata": {},
   "outputs": [],
   "source": [
    "#Prediction model\n",
    "\n",
    "#labels = {\"home_team_wins\": 2, \"teams_draws\":1, \"away_team_wins\": 0}\n",
    "\n",
    "df_teams_1930 = df_teams_1930.reset_index(drop=True)\n",
    "df_teams_1930.loc[df_teams_1930.winning_team == df_teams_1930.home_team,'winning_team']=2\n",
    "df_teams_1930.loc[df_teams_1930.winning_team == 'Draw', 'winning_team']=1\n",
    "df_teams_1930.loc[df_teams_1930.winning_team == df_teams_1930.away_team, 'winning_team']=0\n",
    "\n",
    "df_teams_1930.head()"
   ]
  },
  {
   "cell_type": "code",
   "execution_count": null,
   "metadata": {},
   "outputs": [],
   "source": [
    "#convert home team and away team from categorical variables to continous inputs \n",
    "# Get dummy variables\n",
    "final = pd.get_dummies(df_teams_1930, prefix=['home_team', 'away_team'], columns=['home_team', 'away_team'])\n",
    "\n",
    "# Separate X and y sets\n",
    "X = final.drop(['winning_team'], axis=1)\n",
    "y = final[\"winning_team\"]\n",
    "y = y.astype('int')\n",
    "\n",
    "# Separate train and test sets\n",
    "X_train, X_test, y_train, y_test = train_test_split(X, y, test_size=0.30, random_state=42)"
   ]
  },
  {
   "cell_type": "code",
   "execution_count": null,
   "metadata": {},
   "outputs": [],
   "source": [
    "final.head()"
   ]
  },
  {
   "cell_type": "code",
   "execution_count": null,
   "metadata": {},
   "outputs": [],
   "source": [
    "logreg = LogisticRegression()\n",
    "logreg.fit(X_train, y_train)\n",
    "score = logreg.score(X_train, y_train)\n",
    "score2 = logreg.score(X_test, y_test)\n",
    "\n",
    "print(\"Training set accuracy: \", '%.3f'%(score))\n",
    "print(\"Test set accuracy: \", '%.3f'%(score2))"
   ]
  },
  {
   "cell_type": "code",
   "execution_count": null,
   "metadata": {},
   "outputs": [],
   "source": [
    "#add Fifa rankings\n",
    "# Update new datasets\n",
    "ranking = pd.read_csv('lib/fifa_rankings.csv') \n",
    "fixtures = pd.read_csv('lib/fixtures.csv')\n",
    "\n",
    "# sort group stage names\n",
    "pred_set = []"
   ]
  },
  {
   "cell_type": "code",
   "execution_count": null,
   "metadata": {},
   "outputs": [],
   "source": [
    "# Create new columns with ranking position of each team\n",
    "fixtures.insert(1, 'first_position', fixtures['Home Team'].map(ranking.set_index('Team')['Position']))\n",
    "fixtures.insert(2, 'second_position', fixtures['Away Team'].map(ranking.set_index('Team')['Position']))\n",
    "\n",
    "# We only need the group stage games, so we have to slice the dataset\n",
    "fixtures = fixtures.iloc[:48, :]\n",
    "fixtures.tail()"
   ]
  },
  {
   "cell_type": "code",
   "execution_count": null,
   "metadata": {},
   "outputs": [],
   "source": [
    "# Loop to add teams to new prediction dataset based on the ranking position of each team\n",
    "for index, row in fixtures.iterrows():\n",
    "    if row['first_position'] < row['second_position']:\n",
    "        pred_set.append({'home_team': row['Home Team'], 'away_team': row['Away Team'], 'winning_team': None})\n",
    "    else:\n",
    "        pred_set.append({'home_team': row['Away Team'], 'away_team': row['Home Team'], 'winning_team': None})\n",
    "        \n",
    "pred_set = pd.DataFrame(pred_set)\n",
    "backup_pred_set = pred_set\n",
    "\n",
    "pred_set.head()"
   ]
  },
  {
   "cell_type": "code",
   "execution_count": null,
   "metadata": {},
   "outputs": [],
   "source": [
    "# Get dummy variables and drop winning_team column\n",
    "pred_set = pd.get_dummies(pred_set, prefix=['home_team', 'away_team'], columns=['home_team', 'away_team'])\n",
    "\n",
    "# Add missing columns compared to the model's training dataset\n",
    "missing_cols = set(final.columns) - set(pred_set.columns)\n",
    "for c in missing_cols:\n",
    "    pred_set[c] = 0\n",
    "pred_set = pred_set[final.columns]\n",
    "\n",
    "# Remove winning team column\n",
    "pred_set = pred_set.drop(['winning_team'], axis=1)\n",
    "\n",
    "pred_set.head()"
   ]
  },
  {
   "cell_type": "code",
   "execution_count": null,
   "metadata": {},
   "outputs": [],
   "source": [
    "#group matches \n",
    "predictions = logreg.predict(pred_set)\n",
    "for i in range(fixtures.shape[0]):\n",
    "    print(backup_pred_set.iloc[i, 1] + \" and \" + backup_pred_set.iloc[i, 0])\n",
    "    if predictions[i] == 2:\n",
    "        print(\"Winner: \" + backup_pred_set.iloc[i, 1])\n",
    "    elif predictions[i] == 1:\n",
    "        print(\"Draw\")\n",
    "    elif predictions[i] == 0:\n",
    "        print(\"Winner: \" + backup_pred_set.iloc[i, 0])\n",
    "    print('Probability of ' + backup_pred_set.iloc[i, 1] + ' winning: ', '%.3f'%(logreg.predict_proba(pred_set)[i][2]))\n",
    "    print('Probability of Draw: ', '%.3f'%(logreg.predict_proba(pred_set)[i][1]))\n",
    "    print('Probability of ' + backup_pred_set.iloc[i, 0] + ' winning: ', '%.3f'%(logreg.predict_proba(pred_set)[i][0]))\n",
    "    print(\"\")"
   ]
  },
  {
   "cell_type": "code",
   "execution_count": null,
   "metadata": {},
   "outputs": [],
   "source": [
    "# List of tuples before \n",
    "group_16 = [('Uruguay', 'Portugal'),\n",
    "            ('France', 'Croatia'),\n",
    "            ('Brazil', 'Mexico'),\n",
    "            ('England', 'Colombia'),\n",
    "            ('Spain', 'Russia'),\n",
    "            ('Argentina', 'Peru'),\n",
    "            ('Germany', 'Switzerland'),\n",
    "            ('Poland', 'Belgium')]"
   ]
  },
  {
   "cell_type": "code",
   "execution_count": null,
   "metadata": {},
   "outputs": [],
   "source": [
    "def clean_and_predict(matches, ranking, final, logreg):\n",
    "\n",
    "    # Initialization of auxiliary list for data cleaning\n",
    "    positions = []\n",
    "\n",
    "    # Loop to retrieve each team's position according to FIFA ranking\n",
    "    for match in matches:\n",
    "        positions.append(ranking.loc[ranking['Team'] == match[0],'Position'].iloc[0])\n",
    "        positions.append(ranking.loc[ranking['Team'] == match[1],'Position'].iloc[0])\n",
    "    \n",
    "    # Creating the DataFrame for prediction\n",
    "    pred_set = []\n",
    "\n",
    "    # Initializing iterators for while loop\n",
    "    i = 0\n",
    "    j = 0\n",
    "\n",
    "    # 'i' will be the iterator for the 'positions' list, and 'j' for the list of matches (list of tuples)\n",
    "    while i < len(positions):\n",
    "        dict1 = {}\n",
    "\n",
    "        # If position of first team is better, he will be the 'home' team, and vice-versa\n",
    "        if positions[i] < positions[i + 1]:\n",
    "            dict1.update({'home_team': matches[j][0], 'away_team': matches[j][1]})\n",
    "        else:\n",
    "            dict1.update({'home_team': matches[j][1], 'away_team': matches[j][0]})\n",
    "\n",
    "        # Append updated dictionary to the list, that will later be converted into a DataFrame\n",
    "        pred_set.append(dict1)\n",
    "        i += 2\n",
    "        j += 1\n",
    "\n",
    "    # Convert list into DataFrame\n",
    "    pred_set = pd.DataFrame(pred_set)\n",
    "    backup_pred_set = pred_set\n",
    "\n",
    "    # Get dummy variables and drop winning_team column\n",
    "    pred_set = pd.get_dummies(pred_set, prefix=['home_team', 'away_team'], columns=['home_team', 'away_team'])\n",
    "\n",
    "    # Add missing columns compared to the model's training dataset\n",
    "    missing_cols2 = set(final.columns) - set(pred_set.columns)\n",
    "    for c in missing_cols2:\n",
    "        pred_set[c] = 0\n",
    "    pred_set = pred_set[final.columns]\n",
    "\n",
    "    # Remove winning team column\n",
    "    pred_set = pred_set.drop(['winning_team'], axis=1)\n",
    "\n",
    "    # Predict!\n",
    "    predictions = logreg.predict(pred_set)\n",
    "    for i in range(len(pred_set)):\n",
    "        print(backup_pred_set.iloc[i, 1] + \" and \" + backup_pred_set.iloc[i, 0])\n",
    "        if predictions[i] == 2:\n",
    "            print(\"Winner: \" + backup_pred_set.iloc[i, 1])\n",
    "        elif predictions[i] == 1:\n",
    "            print(\"Draw\")\n",
    "        elif predictions[i] == 0:\n",
    "            print(\"Winner: \" + backup_pred_set.iloc[i, 0])\n",
    "        print('Probability of ' + backup_pred_set.iloc[i, 1] + ' winning: ' , '%.3f'%(logreg.predict_proba(pred_set)[i][2]))\n",
    "        print('Probability of Draw: ', '%.3f'%(logreg.predict_proba(pred_set)[i][1])) \n",
    "        print('Probability of ' + backup_pred_set.iloc[i, 0] + ' winning: ', '%.3f'%(logreg.predict_proba(pred_set)[i][0]))\n",
    "        print(\"\")"
   ]
  },
  {
   "cell_type": "code",
   "execution_count": null,
   "metadata": {},
   "outputs": [],
   "source": [
    "clean_and_predict(group_16, ranking, final, logreg)"
   ]
  },
  {
   "cell_type": "code",
   "execution_count": null,
   "metadata": {},
   "outputs": [],
   "source": [
    "# List of matches\n",
    "quarters = [('Portugal', 'France'),\n",
    "            ('Spain', 'Argentina'),\n",
    "            ('Brazil', 'England'),\n",
    "            ('Germany', 'Belgium')]"
   ]
  },
  {
   "cell_type": "code",
   "execution_count": null,
   "metadata": {},
   "outputs": [],
   "source": [
    "clean_and_predict(quarters, ranking, final, logreg)"
   ]
  },
  {
   "cell_type": "code",
   "execution_count": null,
   "metadata": {},
   "outputs": [],
   "source": [
    "# List of matches\n",
    "semi = [('Portugal', 'Brazil'),\n",
    "        ('Argentina', 'Germany')]"
   ]
  },
  {
   "cell_type": "code",
   "execution_count": null,
   "metadata": {},
   "outputs": [],
   "source": [
    "clean_and_predict(semi, ranking, final, logreg)"
   ]
  },
  {
   "cell_type": "code",
   "execution_count": null,
   "metadata": {},
   "outputs": [],
   "source": [
    "# Finals\n",
    "finals = [('Brazil', 'Germany')]"
   ]
  },
  {
   "cell_type": "code",
   "execution_count": null,
   "metadata": {},
   "outputs": [],
   "source": [
    "clean_and_predict(finals, ranking, final, logreg)"
   ]
  },
  {
   "cell_type": "code",
   "execution_count": null,
   "metadata": {},
   "outputs": [],
   "source": [
    "##Conclusion"
   ]
  },
  {
   "cell_type": "code",
   "execution_count": null,
   "metadata": {},
   "outputs": [],
   "source": [
    "print(\"Thank you for your time\\nQuestions???\")"
   ]
  },
  {
   "cell_type": "code",
   "execution_count": null,
   "metadata": {},
   "outputs": [],
   "source": []
  },
  {
   "cell_type": "code",
   "execution_count": null,
   "metadata": {},
   "outputs": [],
   "source": []
  },
  {
   "cell_type": "code",
   "execution_count": null,
   "metadata": {},
   "outputs": [],
   "source": []
  }
 ],
 "metadata": {
  "kernelspec": {
   "display_name": "Python 3",
   "language": "python",
   "name": "python3"
  },
  "language_info": {
   "codemirror_mode": {
    "name": "ipython",
    "version": 3
   },
   "file_extension": ".py",
   "mimetype": "text/x-python",
   "name": "python",
   "nbconvert_exporter": "python",
   "pygments_lexer": "ipython3",
   "version": "3.5.2"
  }
 },
 "nbformat": 4,
 "nbformat_minor": 2
}
